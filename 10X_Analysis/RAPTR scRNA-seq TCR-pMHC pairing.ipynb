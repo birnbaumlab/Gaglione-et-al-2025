{
 "cells": [
  {
   "cell_type": "code",
   "execution_count": null,
   "id": "b4484938",
   "metadata": {},
   "outputs": [],
   "source": [
    "#vlp = pMHC\n",
    "#tcr = TCR\n",
    "\n",
    "import pandas as pd\n",
    "\n",
    "# Step 1: Load the VLP dataframe (adjust this based on input)\n",
    "vlp_df = pd.read_csv('RAPTR-VLP.csv', header=0, index_col=0)  # Assuming the VLPs are row indexes\n",
    "tcr_df = pd.read_csv('RAPTR-TCR.csv', header=0, index_col=0)  # Assuming the TCRs are row indexes\n",
    "\n",
    "# Step 2: Transpose the dataframes to get barcodes as a column\n",
    "vlp_transposed_df = vlp_df.T.reset_index()\n",
    "vlp_transposed_df.columns.values[0] = 'Barcode'  # Rename the first column to 'Barcode'\n",
    "tcr_transposed_df = tcr_df.T.reset_index()\n",
    "tcr_transposed_df.columns.values[0] = 'Barcode'  # Rename the first column to 'Barcode'\n",
    "\n",
    "# Step 3: Remove the accidental '.1' from the barcode column\n",
    "vlp_transposed_df['Barcode'] = vlp_transposed_df['Barcode'].str.replace('.1', '', regex=False)\n",
    "tcr_transposed_df['Barcode'] = tcr_transposed_df['Barcode'].str.replace('.1', '', regex=False)"
   ]
  },
  {
   "cell_type": "markdown",
   "id": "082b51d5",
   "metadata": {},
   "source": [
    "# Process TCR dataframe"
   ]
  },
  {
   "cell_type": "code",
   "execution_count": null,
   "id": "6e20338b",
   "metadata": {
    "scrolled": true
   },
   "outputs": [],
   "source": [
    "import matplotlib.pyplot as plt\n",
    "\n",
    "# Step 1: Sum UMIs per barcode (row)\n",
    "umi_counts = tcr_transposed_df.iloc[:, 1:].sum(axis=1)  # Exclude the 'Barcode' column\n",
    "\n",
    "# Step 2: Plot histogram\n",
    "plt.figure(figsize=(10, 6))\n",
    "plt.hist(umi_counts, bins=50, color='blue', edgecolor='black', alpha=0.7)\n",
    "plt.xlabel('Total UMIs per Cell Barcode')\n",
    "plt.ylabel('Number of Cells')\n",
    "plt.title('Distribution of UMIs per Cell Barcode')\n",
    "plt.yscale('log')  # Log scale for better visibility if there are large variations\n",
    "plt.grid(axis='y', linestyle='--', alpha=0.7)\n",
    "plt.show()"
   ]
  },
  {
   "cell_type": "markdown",
   "id": "41a29f69",
   "metadata": {},
   "source": [
    "## Filter cells with < 5 UMIs"
   ]
  },
  {
   "cell_type": "code",
   "execution_count": null,
   "id": "f059bb58",
   "metadata": {},
   "outputs": [],
   "source": [
    "# Step 1: Calculate total UMIs per barcode (row)\n",
    "tcr_transposed_df['Total_UMIs'] = tcr_transposed_df.iloc[:, 1:].sum(axis=1)  # Exclude 'Barcode' column\n",
    "\n",
    "# Debugging: Print summary of UMIs before filtering\n",
    "print(\"Before filtering:\")\n",
    "print(tcr_transposed_df['Total_UMIs'].describe())\n",
    "\n",
    "# Step 2: Filter out rows with total UMIs < 5\n",
    "filtered_tcr_df = tcr_transposed_df[tcr_transposed_df['Total_UMIs'] >= 5].copy()  # Ensure a new DataFrame is created\n",
    "\n",
    "# Debugging: Print summary after filtering\n",
    "print(\"\\nAfter filtering:\")\n",
    "print(filtered_tcr_df['Total_UMIs'].describe())\n",
    "\n",
    "# Step 3: Drop the 'Total_UMIs' column if no longer needed\n",
    "filtered_tcr_df = filtered_tcr_df.drop(columns=['Total_UMIs'])"
   ]
  },
  {
   "cell_type": "code",
   "execution_count": null,
   "id": "3e23311c",
   "metadata": {},
   "outputs": [],
   "source": [
    "## Examine distribution of TCR UMIs for each cell barcode\n",
    "\n",
    "import matplotlib.pyplot as plt\n",
    "\n",
    "# Normalize each row by its sum (total UMIs per cell)\n",
    "normalized_tcr_df = filtered_tcr_df.set_index(\"Barcode\")  # Ensure Barcode is the index\n",
    "normalized_tcr_df = normalized_tcr_df.div(normalized_tcr_df.sum(axis=1), axis=0)  # Row-wise normalization\n",
    "\n",
    "# Get the maximum proportion for each cell (row)\n",
    "max_proportions = normalized_tcr_df.max(axis=1)"
   ]
  },
  {
   "cell_type": "markdown",
   "id": "fef6d3ac",
   "metadata": {},
   "source": [
    "## Filter cells where the proportion of each TCR is < x%"
   ]
  },
  {
   "cell_type": "code",
   "execution_count": null,
   "id": "c6b7bfea",
   "metadata": {},
   "outputs": [],
   "source": [
    "# Define the threshold\n",
    "threshold = 0.6\n",
    "\n",
    "# Identify barcodes where the maximum proportion is >= x%\n",
    "high_confidence_barcodes = normalized_tcr_df.index[normalized_tcr_df.max(axis=1) >= threshold]\n",
    "\n",
    "# Filter the original UMI count dataframe based on these barcodes\n",
    "high_confidence_tcr_df = filtered_tcr_df.loc[filtered_tcr_df[\"Barcode\"].isin(high_confidence_barcodes)]\n",
    "\n",
    "# Print the number of remaining cells\n",
    "print(f\"Number of cells remaining after filtering: {high_confidence_tcr_df.shape[0]}\")\n"
   ]
  },
  {
   "cell_type": "code",
   "execution_count": null,
   "id": "74a23a87",
   "metadata": {},
   "outputs": [],
   "source": [
    "import pandas as pd\n",
    "import numpy as np\n",
    "from scipy.sparse import csr_matrix\n",
    "\n",
    "# Step 1: Convert the UMI counts dataframe to a sparse matrix\n",
    "# Convert the dataframe without the 'Barcode' column\n",
    "umi_matrix = csr_matrix(high_confidence_tcr_df.iloc[:, 1:].values)\n",
    "\n",
    "# Step 2: Initialize an empty list to store the results\n",
    "tcr_identity_data = []\n",
    "\n",
    "# Step 3: Loop through each row (cell barcode) to get the top TCR identities\n",
    "for i, row in enumerate(umi_matrix):\n",
    "    barcode = high_confidence_tcr_df.iloc[i, 0]  # Get the barcode for this row\n",
    "    \n",
    "    # Get the sorted indices of the UMIs in descending order (excluding 0s)\n",
    "    sorted_indices = row.toarray().flatten().argsort()[::-1]\n",
    "    \n",
    "    # Get the top 2 TCR identities and their UMI counts\n",
    "    top_tcr_identity_1 = high_confidence_tcr_df.columns[sorted_indices[0] + 1]  # +1 because the first column is 'Barcode'\n",
    "    top_umi_1 = row[0, sorted_indices[0]]\n",
    "    \n",
    "    if len(sorted_indices) > 1 and top_umi_1 > 0:  # Check if there is a second TCR identity\n",
    "        top_tcr_identity_2 = high_confidence_tcr_df.columns[sorted_indices[1] + 1]\n",
    "        top_umi_2 = row[0, sorted_indices[1]]\n",
    "    else:\n",
    "        top_tcr_identity_2 = None\n",
    "        top_umi_2 = None\n",
    "    \n",
    "    # Step 4: Append to the result list\n",
    "    tcr_identity_data.append([barcode, top_tcr_identity_1, top_umi_1, top_tcr_identity_2, top_umi_2])\n",
    "\n",
    "# Step 5: Convert the list to a dataframe\n",
    "result_df = pd.DataFrame(tcr_identity_data, columns=['Barcode', 'Top TCR Identity 1', 'UMIs 1', 'Top TCR Identity 2', 'UMIs 2'])"
   ]
  },
  {
   "cell_type": "code",
   "execution_count": null,
   "id": "c202580d",
   "metadata": {
    "scrolled": true
   },
   "outputs": [],
   "source": [
    "# Step 1: Create a new dataframe with only the top TCR and top VLP identities\n",
    "top_tcr_df = result_df[['Barcode', 'Top TCR Identity 1', 'UMIs 1']]\n",
    "\n",
    "# Display the new dataframe\n",
    "top_tcr_df"
   ]
  },
  {
   "cell_type": "markdown",
   "id": "7503413f",
   "metadata": {},
   "source": [
    "# Process pMHC dataframe"
   ]
  },
  {
   "cell_type": "code",
   "execution_count": null,
   "id": "9cbf8808",
   "metadata": {},
   "outputs": [],
   "source": [
    "vlp_transposed_df"
   ]
  },
  {
   "cell_type": "code",
   "execution_count": null,
   "id": "312aa5ca",
   "metadata": {},
   "outputs": [],
   "source": [
    "import pandas as pd\n",
    "import numpy as np\n",
    "from scipy.sparse import csr_matrix\n",
    "\n",
    "# Step 1: Calculate total UMIs per barcode (row) for the VLP dataframe\n",
    "vlp_transposed_df['Total_UMIs'] = vlp_transposed_df.iloc[:, 1:].sum(axis=1)  # Exclude 'Barcode' column\n",
    "\n",
    "# Step 2: Filter out rows with total UMIs < 5 (you can adjust the threshold if needed)\n",
    "filtered_vlp_df = vlp_transposed_df[vlp_transposed_df['Total_UMIs'] >= 5].copy()\n",
    "\n",
    "# Step 3: Drop the 'Total_UMIs' column as it's no longer needed\n",
    "filtered_vlp_df = filtered_vlp_df.drop(columns=['Total_UMIs'])\n",
    "\n",
    "filtered_vlp_df"
   ]
  },
  {
   "cell_type": "code",
   "execution_count": null,
   "id": "d6cc53aa",
   "metadata": {},
   "outputs": [],
   "source": [
    "## Examine distribution of VLP UMIs for each cell barcode\n",
    "\n",
    "import matplotlib.pyplot as plt\n",
    "\n",
    "# Normalize each row by its sum (total UMIs per cell)\n",
    "normalized_vlp_df = filtered_vlp_df.set_index(\"Barcode\")  # Ensure Barcode is the index\n",
    "normalized_vlp_df = normalized_vlp_df.div(normalized_vlp_df.sum(axis=1), axis=0)  # Row-wise normalization\n",
    "\n",
    "# Get the maximum proportion for each cell (row)\n",
    "max_vlp_proportions = normalized_vlp_df.max(axis=1)\n",
    "\n",
    "# Plot histogram\n",
    "plt.figure(figsize=(8, 6))\n",
    "plt.hist(max_vlp_proportions, bins=50, color='royalblue', edgecolor='black', alpha=0.7)\n",
    "plt.xlabel(\"Maximum Proportion of a Single pMHC Identity\")\n",
    "plt.ylabel(\"Number of Cells\")\n",
    "plt.title(\"Distribution of Maximum pMHC Proportion per Cell\")\n",
    "plt.grid(axis='y', linestyle='--', alpha=0.7)\n",
    "plt.show()"
   ]
  },
  {
   "cell_type": "code",
   "execution_count": null,
   "id": "70fd17fa",
   "metadata": {},
   "outputs": [],
   "source": [
    "# Optional: Filter cells where proportion of VLPs is < x%\n",
    "\n",
    "# Define the threshold\n",
    "threshold = 0\n",
    "\n",
    "# Identify barcodes where the maximum proportion is >= x%\n",
    "high_confidence_vlp_barcodes = normalized_vlp_df.index[normalized_vlp_df.max(axis=1) >= threshold]\n",
    "\n",
    "# Filter the original UMI count dataframe based on these barcodes\n",
    "high_confidence_vlp_df = filtered_vlp_df.loc[filtered_vlp_df[\"Barcode\"].isin(high_confidence_vlp_barcodes)]\n",
    "\n",
    "# Print the number of remaining cells\n",
    "print(f\"Number of cells remaining after filtering: {high_confidence_vlp_df.shape[0]}\")"
   ]
  },
  {
   "cell_type": "code",
   "execution_count": null,
   "id": "c5235a11",
   "metadata": {},
   "outputs": [],
   "source": [
    "# Initialize a list to store results for the new dataframe\n",
    "vlp_identity_data = []\n",
    "\n",
    "# Loop through each row (cell barcode) to get the top 2 VLP identities\n",
    "for _, row in high_confidence_vlp_df.iterrows():\n",
    "    barcode = row['Barcode']\n",
    "    \n",
    "    # Get the VLP identities (excluding the 'Barcode' column) and sort by UMIs\n",
    "    vlp_counts = row[1:].sort_values(ascending=False)\n",
    "    \n",
    "    # Step 6: Get the top 2 VLP identities and their associated UMI counts\n",
    "    top_vlp_identity_1 = vlp_counts.index[0]\n",
    "    top_umi_1 = vlp_counts.iloc[0]\n",
    "    \n",
    "    if len(vlp_counts) > 1:  # Check if there is a second VLP identity\n",
    "        top_vlp_identity_2 = vlp_counts.index[1]\n",
    "        top_umi_2 = vlp_counts.iloc[1]\n",
    "    else:  # If only one VLP identity exists, use NaN for the second\n",
    "        top_vlp_identity_2 = None\n",
    "        top_umi_2 = None\n",
    "    \n",
    "    # Append the data to the list\n",
    "    vlp_identity_data.append([barcode, top_vlp_identity_1, top_umi_1, top_vlp_identity_2, top_umi_2])\n",
    "\n",
    "# Create a new dataframe with the collected data\n",
    "result_vlp_df = pd.DataFrame(vlp_identity_data, columns=['Barcode', 'Top VLP Identity 1', 'UMIs 1', 'Top VLP Identity 2', 'UMIs 2'])\n",
    "\n",
    "# Display the result\n",
    "result_vlp_df"
   ]
  },
  {
   "cell_type": "markdown",
   "id": "709524c5",
   "metadata": {},
   "source": [
    "# Merge dataframes"
   ]
  },
  {
   "cell_type": "code",
   "execution_count": null,
   "id": "cdb62ae3",
   "metadata": {
    "scrolled": true
   },
   "outputs": [],
   "source": [
    "# Step 1: Merge the TCR and VLP dataframes on 'Barcode'\n",
    "merged_df = pd.merge(result_df, result_vlp_df, on='Barcode', how='inner')\n",
    "\n",
    "# Display the merged dataframe\n",
    "merged_df"
   ]
  },
  {
   "cell_type": "code",
   "execution_count": null,
   "id": "637f9caf",
   "metadata": {},
   "outputs": [],
   "source": [
    "# Step 1: Create a new dataframe with only the top TCR and top VLP identities\n",
    "top_tcr_vlp_df = merged_df[['Barcode', 'Top TCR Identity 1', 'UMIs 1_x', 'Top VLP Identity 1', 'UMIs 1_y']]\n",
    "\n",
    "# Display the new dataframe\n",
    "top_tcr_vlp_df"
   ]
  },
  {
   "cell_type": "markdown",
   "id": "32209272",
   "metadata": {},
   "source": [
    "# From merged dataframe, create pivot tables to generate figures"
   ]
  },
  {
   "cell_type": "code",
   "execution_count": null,
   "id": "a9f29374",
   "metadata": {
    "scrolled": false
   },
   "outputs": [],
   "source": [
    "import pandas as pd\n",
    "\n",
    "# Step 1: Rename columns\n",
    "top_tcr_vlp_df = top_tcr_vlp_df.rename(columns={\n",
    "    'cell barcode': 'Barcode',\n",
    "    'Top TCR Identity 1': 'TCR',\n",
    "    'UMIs 1_x': 'UMIs_TCR',\n",
    "    'Top VLP Identity 1': 'VLP',\n",
    "    'UMIs 1_y': 'UMIs_VLP'\n",
    "})\n",
    "\n",
    "# Step 2: Create a dataframe with unique TCRs as rows and all VLP identities as columns\n",
    "heatmap_df = top_tcr_vlp_df.pivot_table(index='TCR', columns='VLP', values='Barcode', aggfunc='count', fill_value=0)\n",
    "\n",
    "# Step 3: Ensure all 101 VLP identities from vlp_transposed_df are present\n",
    "vlp_identities = vlp_transposed_df.columns[1:-1]  # Exclude 'Barcode' column\n",
    "heatmap_df = heatmap_df.reindex(columns=vlp_identities, fill_value=0)"
   ]
  },
  {
   "cell_type": "code",
   "execution_count": null,
   "id": "ed40dda8",
   "metadata": {},
   "outputs": [],
   "source": [
    "# Filter TCRs with less than x cells\n",
    "\n",
    "cell_threshold = 5\n",
    "\n",
    "heatmap_unfiltered_df = heatmap_df\n",
    "\n",
    "# Step 1: Compute total number of cells for each TCR identity (sum of each row)\n",
    "heatmap_df['Total_Cells'] = heatmap_df.sum(axis=1)\n",
    "\n",
    "# Step 2: Filter out TCR identities where Total_Cells < x\n",
    "heatmap_df = heatmap_df[heatmap_df['Total_Cells'] >= cell_threshold]\n",
    "\n",
    "# Step 3: Sort by total cells in descending order\n",
    "heatmap_df = heatmap_df.sort_values(by='Total_Cells', ascending=False)\n",
    "\n",
    "# Step 4: Drop the \"Total_Cells\" column after sorting (optional, if not needed in the heatmap)\n",
    "heatmap_df = heatmap_df.drop(columns=['Total_Cells'])"
   ]
  },
  {
   "cell_type": "code",
   "execution_count": null,
   "id": "bbba126a",
   "metadata": {},
   "outputs": [],
   "source": [
    "heatmap_unfiltered_df"
   ]
  },
  {
   "cell_type": "code",
   "execution_count": null,
   "id": "082aff69",
   "metadata": {},
   "outputs": [],
   "source": [
    "# Step 1: Extract the last column\n",
    "tcr_cell_counts = heatmap_unfiltered_df.iloc[:, -1]\n",
    "\n",
    "# Step 2: Create a new DataFrame with the TCR identity (from index) and Total Cells\n",
    "tcr_cell_counts = pd.DataFrame({\n",
    "    'TCR Identity': heatmap_unfiltered_df.index,  # TCR identity from the index\n",
    "    'Total Cells': tcr_cell_counts  # The last column (Total Cells)\n",
    "})\n",
    "\n",
    "# Step 3: Sort in descending order by Total Cells\n",
    "tcr_cell_counts = tcr_cell_counts.sort_values(by='Total Cells', ascending=False)\n",
    "\n",
    "# Step 4: Display the first few rows\n",
    "print(tcr_cell_counts)\n"
   ]
  },
  {
   "cell_type": "code",
   "execution_count": null,
   "id": "0d3b8307",
   "metadata": {},
   "outputs": [],
   "source": [
    "# Create a single-color colormap with your color choice\n",
    "from matplotlib.colors import LinearSegmentedColormap\n",
    "\n",
    "# Define a custom single color colormap (example with #bf4542)\n",
    "single_color_cmap = LinearSegmentedColormap.from_list(\"single_red\", ['white','#8a3330'])#641e1a\n",
    "\n",
    "# Step 1: Filter out TCRs with less than 5 cells\n",
    "tcr_cell_counts_filtered = tcr_cell_counts[tcr_cell_counts['Total Cells'] >= 5]\n",
    "\n",
    "# Step 2: Convert the filtered dataframe into a heatmap-friendly format (set TCR Identity as index)\n",
    "heatmap_tcr_data = tcr_cell_counts_filtered.set_index('TCR Identity')\n",
    "\n",
    "# Step 3: Create the heatmap\n",
    "plt.figure(figsize=(1, 10))  # Adjust the figure size as needed\n",
    "sns.heatmap(heatmap_tcr_data, cmap=single_color_cmap, annot=False, fmt='d', cbar_kws={'label': 'Total Cells'}, linewidths=0.5, linecolor=\"gray\")\n",
    "\n",
    "# Customize the plot\n",
    "plt.title('Heatmap of Total Cells per TCR Identity', fontsize=16, fontname='Helvetica')\n",
    "plt.xlabel('TCR Identity', fontsize=14, fontname='Helvetica')\n",
    "plt.ylabel('Total Cells', fontsize=14, fontname='Helvetica')\n",
    "\n",
    "# Set the font to Helvetica for all text\n",
    "plt.xticks(fontname='Helvetica')\n",
    "#plt.yticks(fontname='Helvetica')\n",
    "\n",
    "plt.savefig(\"Heatmap_cell_number.pdf\", format=\"pdf\", bbox_inches='tight')\n",
    "\n",
    "plt.show()"
   ]
  },
  {
   "cell_type": "markdown",
   "id": "7aa144cf",
   "metadata": {},
   "source": [
    "# Heatmap based on number of cells for each TCR-pMHC pair"
   ]
  },
  {
   "cell_type": "code",
   "execution_count": null,
   "id": "5fbe1473",
   "metadata": {},
   "outputs": [],
   "source": [
    "# Step 1: Normalize each row by the total number of cells for that TCR identity\n",
    "heatmap_normalized_df = heatmap_df.div(heatmap_df.sum(axis=1), axis=0)"
   ]
  },
  {
   "cell_type": "code",
   "execution_count": null,
   "id": "52b74c84",
   "metadata": {},
   "outputs": [],
   "source": [
    "heatmap_normalized_df.to_csv('heatmap_cells>5.csv')"
   ]
  },
  {
   "cell_type": "code",
   "execution_count": null,
   "id": "aff9ea4a",
   "metadata": {},
   "outputs": [],
   "source": [
    "import seaborn as sns\n",
    "import matplotlib.pyplot as plt\n",
    "\n",
    "plt.figure(figsize=(30, 10))  # Adjust figure size\n",
    "sns.heatmap(heatmap_normalized_df, cmap=\"Blues\", linewidths=0.5, linecolor=\"gray\") #YlGnBu and BuPu good color scheme\n",
    "\n",
    "# Step 3: Customize the plot\n",
    "plt.xlabel(\"VLP Identity\")\n",
    "plt.ylabel(\"TCR Identity\")\n",
    "plt.title(\"Normalized Heatmap of TCR-VLP Pairings (Fraction of Total Cells for Each TCR)\")\n",
    "\n",
    "# Step 4: Show the heatmap\n",
    "plt.show()"
   ]
  },
  {
   "cell_type": "markdown",
   "id": "35f88b72",
   "metadata": {},
   "source": [
    "# Heatmap based on UMIs for each TCR-pMHC pair"
   ]
  },
  {
   "cell_type": "code",
   "execution_count": null,
   "id": "3eb35bd0",
   "metadata": {},
   "outputs": [],
   "source": [
    "# Merge all\n",
    "\n",
    "# Step 1: Merge the TCR and VLP dataframes on 'Barcode'\n",
    "merged_umi_df = pd.merge(top_tcr_df, filtered_vlp_df, on='Barcode', how='inner')\n",
    "\n",
    "# Display the merged dataframe\n",
    "merged_umi_df"
   ]
  },
  {
   "cell_type": "code",
   "execution_count": null,
   "id": "d7ab2da5",
   "metadata": {
    "scrolled": true
   },
   "outputs": [],
   "source": [
    "# Pivot the dataframe to create the heatmap_umi_df\n",
    "heatmap_umi_df = merged_umi_df.pivot_table(\n",
    "    index=\"Top TCR Identity 1\",  # TCR identity as rows\n",
    "    values=merged_umi_df.columns[3:],  # Use all VLP identity columns\n",
    "    aggfunc=\"sum\",  # Sum UMIs across TCR-VLP pairs\n",
    "    fill_value=0  # Replace NaN with 0\n",
    ")\n",
    "\n",
    "# Display the result\n",
    "heatmap_umi_df"
   ]
  },
  {
   "cell_type": "code",
   "execution_count": null,
   "id": "6fce38ea",
   "metadata": {},
   "outputs": [],
   "source": [
    "import pandas as pd\n",
    "\n",
    "heatmap_umi_df['Total_UMIs'] = heatmap_umi_df.sum(axis=1)\n",
    "\n",
    "# Step 1: Reorder the rows in descending order based on the existing 'Total_UMIs' column\n",
    "heatmap_umi_df = heatmap_umi_df.sort_values(by='Total_UMIs', ascending=False)\n",
    "\n",
    "# Step 2: Keep only the top 32 rows based on total UMIs\n",
    "heatmap_umi_df_top = heatmap_umi_df.head(30)\n",
    "\n",
    "# Step 3: Normalize all values by the corresponding 'Total_UMIs' column\n",
    "heatmap_umi_df_normalized = heatmap_umi_df_top.div(heatmap_umi_df_top['Total_UMIs'], axis=0)\n",
    "\n",
    "# Step 4: Drop the 'Total_UMIs' column as it is no longer needed\n",
    "heatmap_umi_df_normalized = heatmap_umi_df_normalized.drop(columns=['Total_UMIs'], errors='ignore')"
   ]
  },
  {
   "cell_type": "code",
   "execution_count": null,
   "id": "1437653f",
   "metadata": {
    "scrolled": true
   },
   "outputs": [],
   "source": [
    "import seaborn as sns\n",
    "import matplotlib.pyplot as plt\n",
    "\n",
    "# Step 1: Create a heatmap\n",
    "plt.figure(figsize=(30,10))  # Adjust figure size as needed\n",
    "sns.heatmap(heatmap_umi_df_normalized, cmap=\"Blues\", linewidths=0.5, linecolor=\"gray\", cbar_kws={'label': 'Normalized UMIs'})\n",
    "\n",
    "# Step 2: Customize the plot\n",
    "plt.xlabel(\"VLP Identity\")\n",
    "plt.ylabel(\"TCR Identity\")\n",
    "plt.title(\"Normalized Heatmap of VLP UMIs per TCR Identity\")\n",
    "\n",
    "# Step 3: Show the heatmap\n",
    "plt.savefig(\"UMI_heatmap.pdf\",format='pdf',bbox_inches='tight')\n",
    "plt.show()"
   ]
  },
  {
   "cell_type": "markdown",
   "id": "f528964d",
   "metadata": {},
   "source": [
    "# Bar plots for individual TCRs"
   ]
  },
  {
   "cell_type": "code",
   "execution_count": null,
   "id": "7c49c05b",
   "metadata": {},
   "outputs": [],
   "source": [
    "pmhc_list_df = pd.read_csv(\"pMHC_list.csv\",index_col=None,header=None)\n",
    "pmhc_list_df"
   ]
  },
  {
   "cell_type": "code",
   "execution_count": null,
   "id": "5a92d691",
   "metadata": {},
   "outputs": [],
   "source": [
    "# Based on cells\n",
    "\n",
    "import matplotlib.pyplot as plt\n",
    "\n",
    "# Step 1: Filter the collapsed dataframe for individual TCR identities'\n",
    "tcr_identity = 'TCR-2922'  # TCR identity you're interested in\n",
    "tcr_data = heatmap_df.loc[tcr_identity]\n",
    "\n",
    "# Ensure tcr_data is a DataFrame\n",
    "if isinstance(tcr_data, pd.Series):\n",
    "    tcr_data = tcr_data.to_frame()\n",
    "\n",
    "# Replace index with the second column of pmhc_list_df\n",
    "#tcr_data.index = pmhc_list_df.iloc[:, 1].values\n",
    "#tcr_data.index = range(1,102)\n",
    "\n",
    "# Sort the index alphabetically\n",
    "#tcr_data = tcr_data.sort_index()\n",
    "\n",
    "# Display the sorted DataFrame\n",
    "#tcr_data\n"
   ]
  },
  {
   "cell_type": "code",
   "execution_count": null,
   "id": "9ea51e2c",
   "metadata": {},
   "outputs": [],
   "source": [
    "import matplotlib.pyplot as plt  \n",
    "import seaborn as sns  \n",
    "\n",
    "# Ensure tcr_data is a Series\n",
    "if isinstance(tcr_data, pd.DataFrame):\n",
    "    tcr_data = tcr_data.iloc[:, 0]  # Select the first column if it's a DataFrame\n",
    "\n",
    "# Step 2: Plot the bar chart  \n",
    "plt.figure(figsize=(18, 5))  # Adjust figure size as needed\n",
    "sns.barplot(x=tcr_data.index, y=tcr_data.values.flatten(), color=\"#005292\")  # Use a consistent color  \n",
    "\n",
    "# Step 3: Customize the plot  \n",
    "plt.xlabel(\"Peptide\", fontsize=14, fontname=\"Helvetica\")  \n",
    "plt.ylabel(\"# cells\", fontsize=14, fontname=\"Helvetica\")  \n",
    "plt.title(f\"Cell Count for {tcr_identity}\", fontsize=16, fontname=\"Helvetica\")  \n",
    "plt.xticks(rotation=90, fontsize=10, fontname=\"Helvetica\")  # Rotate x labels  \n",
    "plt.yticks(fontsize=15, fontname=\"Helvetica\")  \n",
    "\n",
    "# Step 4: Show the plot\n",
    "#tcr_data.to_csv(\"1403_cells.csv\")\n",
    "#plt.savefig(\"Individual_TCR_1432_cells_heatmap.pdf\",format='pdf',bbox_inches='tight')\n",
    "plt.show()\n",
    "\n"
   ]
  },
  {
   "cell_type": "markdown",
   "id": "38d90746",
   "metadata": {},
   "source": [
    "# pMHC-TCR pairs"
   ]
  },
  {
   "cell_type": "code",
   "execution_count": null,
   "id": "70689424",
   "metadata": {},
   "outputs": [],
   "source": [
    "heatmap_unfiltered_df"
   ]
  },
  {
   "cell_type": "code",
   "execution_count": null,
   "id": "68b025a2",
   "metadata": {},
   "outputs": [],
   "source": [
    "import pandas as pd\n",
    "\n",
    "# Step 1: Drop the final column of heatmap_df\n",
    "heatmap_unfiltered_df = heatmap_unfiltered_df.iloc[:, :-1]  # Keep all rows, but drop the last column"
   ]
  },
  {
   "cell_type": "code",
   "execution_count": null,
   "id": "c8177d82",
   "metadata": {},
   "outputs": [],
   "source": [
    "# Step 2: Sum across the rows to generate a total number of cells for each TCR identity\n",
    "heatmap_unfiltered_df['Total Cells'] = heatmap_unfiltered_df.sum(axis=1)\n",
    "\n",
    "# Step 3: Find the maximum number of cells for each TCR identity (excluding 'Total Cells' column)\n",
    "max_vlp_cells = heatmap_unfiltered_df.iloc[:, :-1].max(axis=1)\n",
    "\n",
    "# Step 4: Identify all VLP identities that have this maximum cell count\n",
    "max_vlp_identity = heatmap_unfiltered_df.iloc[:, :-1].apply(lambda row: row[row == row.max()].index.tolist(), axis=1)\n",
    "\n",
    "# Combine results into a DataFrame\n",
    "summary_df = pd.DataFrame({\n",
    "    'TCR Identity': heatmap_unfiltered_df.index,\n",
    "    'Total Cells': heatmap_unfiltered_df['Total Cells'],\n",
    "    'pMHC Identity with Most Cells': max_vlp_identity,\n",
    "    'Number of Cells for Most Common pMHC': max_vlp_cells\n",
    "})"
   ]
  },
  {
   "cell_type": "code",
   "execution_count": null,
   "id": "3774bb61",
   "metadata": {},
   "outputs": [],
   "source": [
    "summary_df = summary_df.sort_values(by='Total Cells', ascending=False)\n",
    "summary_df"
   ]
  },
  {
   "cell_type": "code",
   "execution_count": null,
   "id": "c3856e41",
   "metadata": {},
   "outputs": [],
   "source": [
    "summary_df.to_csv('TCR-pMHC_pairs_based_on_cells.csv')"
   ]
  },
  {
   "cell_type": "code",
   "execution_count": null,
   "id": "5bcc36fb",
   "metadata": {},
   "outputs": [],
   "source": [
    "import matplotlib.pyplot as plt\n",
    "import pandas as pd\n",
    "\n",
    "# Modify the TCR identity labels by removing the \"TCR-\" prefix\n",
    "summary_df[\"TCR Identity\"] = summary_df[\"TCR Identity\"].str.replace(\"TCR-\", \"\", regex=False)\n",
    "\n",
    "# Convert pMHC lists to strings for unique identification\n",
    "summary_df[\"pMHC Identity with Most Cells\"] = summary_df[\"pMHC Identity with Most Cells\"].apply(lambda x: \", \".join(x) if isinstance(x, list) else str(x))\n",
    "\n",
    "# Define color palette\n",
    "color_palette = [\"#bf4542\", \"#A1C9E1\", \"#F0ABA9\", \"#E4C455\", \"#005292\",  \n",
    "                 \"#947427\", \"#5C8F4F\", \"#924E7D\", \"#76A5AF\", \"#D76A8A\", \"#F0A45D\", \"#FF5733\"]\n",
    "\n",
    "light_grey = \"#989EB0\"  # Light grey for wedges with <5 cells\n",
    "\n",
    "# Compute total cells per pMHC identity (for sorting)\n",
    "total_counts = summary_df.groupby(\"pMHC Identity with Most Cells\")[\"Total Cells\"].sum()\n",
    "\n",
    "# Sort identities by total fraction (largest first)\n",
    "sorted_pMHCs = total_counts.sort_values(ascending=False).index.tolist()\n",
    "\n",
    "# Create a mapping from unique pMHC identity combinations to colors\n",
    "color_map = {pMHC: color_palette[i % len(color_palette)] for i, pMHC in enumerate(sorted_pMHCs)}\n",
    "\n",
    "# Assign colors based on the mapped pMHC identities\n",
    "summary_df[\"Color\"] = [\n",
    "    color_map[pMHC] if total >= 5 else light_grey  \n",
    "    for pMHC, total in zip(summary_df[\"pMHC Identity with Most Cells\"], summary_df[\"Total Cells\"])\n",
    "]\n",
    "\n",
    "# Sort the dataframe to group identities together and order by total fraction\n",
    "summary_df[\"Sort Order\"] = summary_df[\"pMHC Identity with Most Cells\"].map(lambda x: sorted_pMHCs.index(x))\n",
    "summary_df = summary_df.sort_values(by=[\"Sort Order\", \"Total Cells\"], ascending=[True, False])\n",
    "\n",
    "# Step 1: Handle \"Other\" category (combine small fractions)\n",
    "threshold = 5  # Adjust this threshold as needed\n",
    "other_df = summary_df[summary_df[\"Total Cells\"] < threshold]\n",
    "other_sum = other_df[\"Total Cells\"].sum()\n",
    "\n",
    "# Step 2: Remove small fractions from the main dataframe\n",
    "summary_df = summary_df[summary_df[\"Total Cells\"] >= threshold]\n",
    "\n",
    "# Step 3: Create and store the \"Other\" category as a separate row, if it exists\n",
    "if other_sum > 0:\n",
    "    other_df = pd.DataFrame({\n",
    "        \"pMHC Identity with Most Cells\": [\"Other\"],\n",
    "        \"Total Cells\": [other_sum],\n",
    "        \"Color\": [\"grey\"],  # You can choose a color for \"Other\"\n",
    "        \"Sort Order\": [len(sorted_pMHCs)]  # Put \"Other\" at the end\n",
    "    })\n",
    "    \n",
    "    # Append the \"Other\" row back to the summary dataframe\n",
    "    summary_df = pd.concat([summary_df, other_df], ignore_index=True)\n",
    "\n",
    "# Step 4: Plot the pie chart with \"Other\" as a single block wedge and a black outline\n",
    "plt.figure(figsize=(10, 10))\n",
    "\n",
    "plt.pie(\n",
    "    summary_df[\"Total Cells\"], \n",
    "    labels=None,  # No labels\n",
    "    startangle=140, \n",
    "    colors=summary_df[\"Color\"],  \n",
    "    wedgeprops={\"edgecolor\": \"black\", \"linewidth\": 0.5}  # Black borders\n",
    ")\n",
    "\n",
    "# Create a legend for pMHC identities, excluding grey wedges (<5 cells)\n",
    "filtered_pMHCs = [pMHC for pMHC in sorted_pMHCs if total_counts[pMHC] >= 5]\n",
    "\n",
    "legend_handles = [\n",
    "    plt.Line2D([0], [0], marker='s', color='w', markersize=10, markerfacecolor=color_map[p])\n",
    "    for p in filtered_pMHCs\n",
    "]\n",
    "\n",
    "# Add \"Other\" to the legend as well\n",
    "if other_sum > 0:\n",
    "    legend_handles.append(plt.Line2D([0], [0], marker='s', color='w', markersize=10, markerfacecolor=\"grey\"))\n",
    "    filtered_pMHCs.append(\"Other\")\n",
    "\n",
    "plt.legend(legend_handles, filtered_pMHCs, title=\"pMHC Identity\", loc=\"upper center\", fontsize=10, bbox_to_anchor=(0.5, -0.1),\n",
    "           ncol=5, frameon=False, columnspacing=1.0, handleheight=1.5, handlelength=1.5, labelspacing=0.5, title_fontsize='large')\n",
    "\n",
    "# Ensure circular aspect ratio and save\n",
    "plt.axis('equal')\n",
    "plt.savefig(\"TCR_identity_pie_chart.pdf\", format='pdf', bbox_inches='tight')\n",
    "plt.show()"
   ]
  }
 ],
 "metadata": {
  "kernelspec": {
   "display_name": "Python 3 (ipykernel)",
   "language": "python",
   "name": "python3"
  },
  "language_info": {
   "codemirror_mode": {
    "name": "ipython",
    "version": 3
   },
   "file_extension": ".py",
   "mimetype": "text/x-python",
   "name": "python",
   "nbconvert_exporter": "python",
   "pygments_lexer": "ipython3",
   "version": "3.10.9"
  }
 },
 "nbformat": 4,
 "nbformat_minor": 5
}
